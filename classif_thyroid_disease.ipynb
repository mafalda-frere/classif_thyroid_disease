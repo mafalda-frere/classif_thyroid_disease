{
 "cells": [
  {
   "cell_type": "markdown",
   "id": "1e83a0bf",
   "metadata": {},
   "source": [
    "### Import des modules"
   ]
  },
  {
   "cell_type": "code",
   "execution_count": 36,
   "id": "5c4175b4",
   "metadata": {},
   "outputs": [],
   "source": [
    "import numpy as np\n",
    "import pandas as pd\n",
    "import matplotlib.pyplot as plt"
   ]
  },
  {
   "cell_type": "markdown",
   "id": "dce9f2e4",
   "metadata": {},
   "source": [
    "### Import des données"
   ]
  },
  {
   "cell_type": "code",
   "execution_count": 37,
   "id": "e0d4fa39",
   "metadata": {},
   "outputs": [
    {
     "data": {
      "text/html": [
       "<div>\n",
       "<style scoped>\n",
       "    .dataframe tbody tr th:only-of-type {\n",
       "        vertical-align: middle;\n",
       "    }\n",
       "\n",
       "    .dataframe tbody tr th {\n",
       "        vertical-align: top;\n",
       "    }\n",
       "\n",
       "    .dataframe thead th {\n",
       "        text-align: right;\n",
       "    }\n",
       "</style>\n",
       "<table border=\"1\" class=\"dataframe\">\n",
       "  <thead>\n",
       "    <tr style=\"text-align: right;\">\n",
       "      <th></th>\n",
       "      <th>age</th>\n",
       "      <th>sex</th>\n",
       "      <th>on_thyroxine</th>\n",
       "      <th>query_on_thyroxine</th>\n",
       "      <th>on_antithyroid_meds</th>\n",
       "      <th>sick</th>\n",
       "      <th>pregnant</th>\n",
       "      <th>thyroid_surgery</th>\n",
       "      <th>I131_treatment</th>\n",
       "      <th>query_hypothyroid</th>\n",
       "      <th>...</th>\n",
       "      <th>TT4</th>\n",
       "      <th>T4U_measured</th>\n",
       "      <th>T4U</th>\n",
       "      <th>FTI_measured</th>\n",
       "      <th>FTI</th>\n",
       "      <th>TBG_measured</th>\n",
       "      <th>TBG</th>\n",
       "      <th>referral_source</th>\n",
       "      <th>target</th>\n",
       "      <th>patient_id</th>\n",
       "    </tr>\n",
       "  </thead>\n",
       "  <tbody>\n",
       "    <tr>\n",
       "      <th>0</th>\n",
       "      <td>29</td>\n",
       "      <td>F</td>\n",
       "      <td>f</td>\n",
       "      <td>f</td>\n",
       "      <td>f</td>\n",
       "      <td>f</td>\n",
       "      <td>f</td>\n",
       "      <td>f</td>\n",
       "      <td>f</td>\n",
       "      <td>t</td>\n",
       "      <td>...</td>\n",
       "      <td>NaN</td>\n",
       "      <td>f</td>\n",
       "      <td>NaN</td>\n",
       "      <td>f</td>\n",
       "      <td>NaN</td>\n",
       "      <td>f</td>\n",
       "      <td>NaN</td>\n",
       "      <td>other</td>\n",
       "      <td>-</td>\n",
       "      <td>840801013</td>\n",
       "    </tr>\n",
       "    <tr>\n",
       "      <th>1</th>\n",
       "      <td>29</td>\n",
       "      <td>F</td>\n",
       "      <td>f</td>\n",
       "      <td>f</td>\n",
       "      <td>f</td>\n",
       "      <td>f</td>\n",
       "      <td>f</td>\n",
       "      <td>f</td>\n",
       "      <td>f</td>\n",
       "      <td>f</td>\n",
       "      <td>...</td>\n",
       "      <td>128.0</td>\n",
       "      <td>f</td>\n",
       "      <td>NaN</td>\n",
       "      <td>f</td>\n",
       "      <td>NaN</td>\n",
       "      <td>f</td>\n",
       "      <td>NaN</td>\n",
       "      <td>other</td>\n",
       "      <td>-</td>\n",
       "      <td>840801014</td>\n",
       "    </tr>\n",
       "    <tr>\n",
       "      <th>2</th>\n",
       "      <td>41</td>\n",
       "      <td>F</td>\n",
       "      <td>f</td>\n",
       "      <td>f</td>\n",
       "      <td>f</td>\n",
       "      <td>f</td>\n",
       "      <td>f</td>\n",
       "      <td>f</td>\n",
       "      <td>f</td>\n",
       "      <td>f</td>\n",
       "      <td>...</td>\n",
       "      <td>NaN</td>\n",
       "      <td>f</td>\n",
       "      <td>NaN</td>\n",
       "      <td>f</td>\n",
       "      <td>NaN</td>\n",
       "      <td>t</td>\n",
       "      <td>11.0</td>\n",
       "      <td>other</td>\n",
       "      <td>-</td>\n",
       "      <td>840801042</td>\n",
       "    </tr>\n",
       "    <tr>\n",
       "      <th>3</th>\n",
       "      <td>36</td>\n",
       "      <td>F</td>\n",
       "      <td>f</td>\n",
       "      <td>f</td>\n",
       "      <td>f</td>\n",
       "      <td>f</td>\n",
       "      <td>f</td>\n",
       "      <td>f</td>\n",
       "      <td>f</td>\n",
       "      <td>f</td>\n",
       "      <td>...</td>\n",
       "      <td>NaN</td>\n",
       "      <td>f</td>\n",
       "      <td>NaN</td>\n",
       "      <td>f</td>\n",
       "      <td>NaN</td>\n",
       "      <td>t</td>\n",
       "      <td>26.0</td>\n",
       "      <td>other</td>\n",
       "      <td>-</td>\n",
       "      <td>840803046</td>\n",
       "    </tr>\n",
       "    <tr>\n",
       "      <th>4</th>\n",
       "      <td>32</td>\n",
       "      <td>F</td>\n",
       "      <td>f</td>\n",
       "      <td>f</td>\n",
       "      <td>f</td>\n",
       "      <td>f</td>\n",
       "      <td>f</td>\n",
       "      <td>f</td>\n",
       "      <td>f</td>\n",
       "      <td>f</td>\n",
       "      <td>...</td>\n",
       "      <td>NaN</td>\n",
       "      <td>f</td>\n",
       "      <td>NaN</td>\n",
       "      <td>f</td>\n",
       "      <td>NaN</td>\n",
       "      <td>t</td>\n",
       "      <td>36.0</td>\n",
       "      <td>other</td>\n",
       "      <td>S</td>\n",
       "      <td>840803047</td>\n",
       "    </tr>\n",
       "  </tbody>\n",
       "</table>\n",
       "<p>5 rows × 31 columns</p>\n",
       "</div>"
      ],
      "text/plain": [
       "   age sex on_thyroxine query_on_thyroxine on_antithyroid_meds sick pregnant  \\\n",
       "0   29   F            f                  f                   f    f        f   \n",
       "1   29   F            f                  f                   f    f        f   \n",
       "2   41   F            f                  f                   f    f        f   \n",
       "3   36   F            f                  f                   f    f        f   \n",
       "4   32   F            f                  f                   f    f        f   \n",
       "\n",
       "  thyroid_surgery I131_treatment query_hypothyroid  ...    TT4 T4U_measured  \\\n",
       "0               f              f                 t  ...    NaN            f   \n",
       "1               f              f                 f  ...  128.0            f   \n",
       "2               f              f                 f  ...    NaN            f   \n",
       "3               f              f                 f  ...    NaN            f   \n",
       "4               f              f                 f  ...    NaN            f   \n",
       "\n",
       "  T4U FTI_measured FTI TBG_measured   TBG  referral_source target  patient_id  \n",
       "0 NaN            f NaN            f   NaN            other      -   840801013  \n",
       "1 NaN            f NaN            f   NaN            other      -   840801014  \n",
       "2 NaN            f NaN            t  11.0            other      -   840801042  \n",
       "3 NaN            f NaN            t  26.0            other      -   840803046  \n",
       "4 NaN            f NaN            t  36.0            other      S   840803047  \n",
       "\n",
       "[5 rows x 31 columns]"
      ]
     },
     "execution_count": 37,
     "metadata": {},
     "output_type": "execute_result"
    }
   ],
   "source": [
    "data=pd.read_csv(\"/Users/mafaldafrere/Documents/Cours/IODAA/PROG/PROJET/classif_thyroid_disease/thyroidDF.csv\")\n",
    "data.head()"
   ]
  },
  {
   "cell_type": "markdown",
   "id": "b27a1dc9",
   "metadata": {},
   "source": [
    "Premières observations : \n",
    "- Des variables vont produire du data leakage (prise de traitement => malade) \n",
    "- Variables inutiles telles que \"T4U_measured\" => indique si NA ou pas dans la colonne \"T4U\"\n",
    "- Beaucoup de NA sur certaines colonnes => comment gérer ? \n",
    "- Prédiction multi-classes (20 classes): réduire le nombre de classes\n",
    "- Gestion de classes désiquilibrées"
   ]
  },
  {
   "cell_type": "markdown",
   "id": "c7c5ff77",
   "metadata": {},
   "source": [
    "### 1. Exploration Préliminaire"
   ]
  },
  {
   "cell_type": "code",
   "execution_count": null,
   "id": "97677d86",
   "metadata": {},
   "outputs": [
    {
     "data": {
      "image/png": "[encoded data removed]",
      "text/plain": [
       "<Figure size 1000x500 with 1 Axes>"
      ]
     },
     "metadata": {},
     "output_type": "display_data"
    }
   ],
   "source": [
    "y=data.target\n",
    "\n",
    "y.value_counts().plot(kind='bar', figsize=(10,5), color='teal')\n",
    "plt.title(\"Distribution des classes dans la colonne target brute\")\n",
    "plt.xlabel(\"Classe\")\n",
    "plt.ylabel(\"Nombre\")\n",
    "plt.show()"
   ]
  },
  {
   "cell_type": "markdown",
   "id": "47b1386f",
   "metadata": {},
   "source": [
    "On observe que les classes sont très déséquilibrées avec beaucoup d'individus sains et très peu d'individus pour les autres catégories. Je fais le choix de regrouper certaines catégories pour créer des méta-catégories : sain, hyperthyroïdie, hypothyroïdie (voir documentation du dataset kaggle). Je choisis aussi de retirer les catégories qui ne rentrent pas dans les méta-catégories car trop peu d'individus. "
   ]
  },
  {
   "cell_type": "code",
   "execution_count": 39,
   "id": "63459876",
   "metadata": {},
   "outputs": [],
   "source": [
    "# On mappe les meta-catégories\n",
    "diagnostics = {'-': 'negative',\n",
    "             'A': 'hyperthyroid', \n",
    "             'B': 'hyperthyroid', \n",
    "             'C': 'hyperthyroid', \n",
    "             'D': 'hyperthyroid',\n",
    "             'E': 'hypothyroid', \n",
    "             'F': 'hypothyroid', \n",
    "             'G': 'hypothyroid', \n",
    "             'H': 'hypothyroid'}\n",
    "\n",
    "data['target'] = data['target'].map(diagnostics)\n",
    "\n",
    "data.dropna(subset=['target'], inplace=True) # On retire les individus qui ne mappent pas dans les méta-catégories"
   ]
  },
  {
   "cell_type": "code",
   "execution_count": 40,
   "id": "b1c7fb3b",
   "metadata": {},
   "outputs": [
    {
     "data": {
      "image/png": "[encoded data removed]",
      "text/plain": [
       "<Figure size 1000x500 with 1 Axes>"
      ]
     },
     "metadata": {},
     "output_type": "display_data"
    }
   ],
   "source": [
    "y=data.target\n",
    "\n",
    "y.value_counts().plot(kind='bar', figsize=(10,5), color='teal')\n",
    "plt.title(\"Distribution des classes dans la colonne target modifiée\")\n",
    "plt.xlabel(\"Classe\")\n",
    "plt.ylabel(\"Nombre\")\n",
    "plt.show()"
   ]
  },
  {
   "cell_type": "markdown",
   "id": "20d2cfdc",
   "metadata": {},
   "source": [
    "On reste dans un cas déséquilibré mais avec moins de classes et moins de bruit.\n",
    "Maintenant on retire les colonnes redondantes qui indiquent si l'hormone a été mesurée ou non, car elles n'apportent aucune information supplémentaire."
   ]
  },
  {
   "cell_type": "code",
   "execution_count": 41,
   "id": "f70e2cb5",
   "metadata": {},
   "outputs": [],
   "source": [
    "data.drop(['TSH_measured', 'T3_measured', 'TT4_measured', 'T4U_measured',\n",
    " 'FTI_measured', 'TBG_measured'], axis=1, inplace=True)"
   ]
  },
  {
   "cell_type": "code",
   "execution_count": 42,
   "id": "dd9b583b",
   "metadata": {},
   "outputs": [
    {
     "name": "stdout",
     "output_type": "stream",
     "text": [
      "<class 'pandas.core.frame.DataFrame'>\n",
      "Index: 7546 entries, 0 to 9171\n",
      "Data columns (total 25 columns):\n",
      " #   Column               Non-Null Count  Dtype  \n",
      "---  ------               --------------  -----  \n",
      " 0   age                  7546 non-null   int64  \n",
      " 1   sex                  7296 non-null   object \n",
      " 2   on_thyroxine         7546 non-null   object \n",
      " 3   query_on_thyroxine   7546 non-null   object \n",
      " 4   on_antithyroid_meds  7546 non-null   object \n",
      " 5   sick                 7546 non-null   object \n",
      " 6   pregnant             7546 non-null   object \n",
      " 7   thyroid_surgery      7546 non-null   object \n",
      " 8   I131_treatment       7546 non-null   object \n",
      " 9   query_hypothyroid    7546 non-null   object \n",
      " 10  query_hyperthyroid   7546 non-null   object \n",
      " 11  lithium              7546 non-null   object \n",
      " 12  goitre               7546 non-null   object \n",
      " 13  tumor                7546 non-null   object \n",
      " 14  hypopituitary        7546 non-null   object \n",
      " 15  psych                7546 non-null   object \n",
      " 16  TSH                  6824 non-null   float64\n",
      " 17  T3                   5337 non-null   float64\n",
      " 18  TT4                  7192 non-null   float64\n",
      " 19  T4U                  6870 non-null   float64\n",
      " 20  FTI                  6877 non-null   float64\n",
      " 21  TBG                  259 non-null    float64\n",
      " 22  referral_source      7546 non-null   object \n",
      " 23  target               7546 non-null   object \n",
      " 24  patient_id           7546 non-null   int64  \n",
      "dtypes: float64(6), int64(2), object(17)\n",
      "memory usage: 1.5+ MB\n"
     ]
    }
   ],
   "source": [
    "data.info()"
   ]
  },
  {
   "cell_type": "code",
   "execution_count": 43,
   "id": "9cec054a",
   "metadata": {},
   "outputs": [
    {
     "data": {
      "text/html": [
       "<div>\n",
       "<style scoped>\n",
       "    .dataframe tbody tr th:only-of-type {\n",
       "        vertical-align: middle;\n",
       "    }\n",
       "\n",
       "    .dataframe tbody tr th {\n",
       "        vertical-align: top;\n",
       "    }\n",
       "\n",
       "    .dataframe thead th {\n",
       "        text-align: right;\n",
       "    }\n",
       "</style>\n",
       "<table border=\"1\" class=\"dataframe\">\n",
       "  <thead>\n",
       "    <tr style=\"text-align: right;\">\n",
       "      <th></th>\n",
       "      <th>age</th>\n",
       "      <th>TSH</th>\n",
       "      <th>T3</th>\n",
       "      <th>TT4</th>\n",
       "      <th>T4U</th>\n",
       "      <th>FTI</th>\n",
       "      <th>TBG</th>\n",
       "      <th>patient_id</th>\n",
       "    </tr>\n",
       "  </thead>\n",
       "  <tbody>\n",
       "    <tr>\n",
       "      <th>count</th>\n",
       "      <td>7546.000000</td>\n",
       "      <td>6824.000000</td>\n",
       "      <td>5337.000000</td>\n",
       "      <td>7192.000000</td>\n",
       "      <td>6870.000000</td>\n",
       "      <td>6877.000000</td>\n",
       "      <td>259.000000</td>\n",
       "      <td>7.546000e+03</td>\n",
       "    </tr>\n",
       "    <tr>\n",
       "      <th>mean</th>\n",
       "      <td>78.013782</td>\n",
       "      <td>5.421753</td>\n",
       "      <td>2.020935</td>\n",
       "      <td>105.203373</td>\n",
       "      <td>0.967322</td>\n",
       "      <td>110.571745</td>\n",
       "      <td>22.955019</td>\n",
       "      <td>8.529713e+08</td>\n",
       "    </tr>\n",
       "    <tr>\n",
       "      <th>std</th>\n",
       "      <td>1305.258137</td>\n",
       "      <td>26.080471</td>\n",
       "      <td>0.809865</td>\n",
       "      <td>32.606462</td>\n",
       "      <td>0.162315</td>\n",
       "      <td>36.600867</td>\n",
       "      <td>6.088392</td>\n",
       "      <td>7.561373e+06</td>\n",
       "    </tr>\n",
       "    <tr>\n",
       "      <th>min</th>\n",
       "      <td>1.000000</td>\n",
       "      <td>0.005000</td>\n",
       "      <td>0.050000</td>\n",
       "      <td>2.000000</td>\n",
       "      <td>0.190000</td>\n",
       "      <td>1.400000</td>\n",
       "      <td>0.100000</td>\n",
       "      <td>8.408010e+08</td>\n",
       "    </tr>\n",
       "    <tr>\n",
       "      <th>25%</th>\n",
       "      <td>37.000000</td>\n",
       "      <td>0.570000</td>\n",
       "      <td>1.600000</td>\n",
       "      <td>87.000000</td>\n",
       "      <td>0.870000</td>\n",
       "      <td>93.000000</td>\n",
       "      <td>20.000000</td>\n",
       "      <td>8.504100e+08</td>\n",
       "    </tr>\n",
       "    <tr>\n",
       "      <th>50%</th>\n",
       "      <td>55.000000</td>\n",
       "      <td>1.400000</td>\n",
       "      <td>2.000000</td>\n",
       "      <td>103.000000</td>\n",
       "      <td>0.960000</td>\n",
       "      <td>108.000000</td>\n",
       "      <td>23.000000</td>\n",
       "      <td>8.510090e+08</td>\n",
       "    </tr>\n",
       "    <tr>\n",
       "      <th>75%</th>\n",
       "      <td>67.000000</td>\n",
       "      <td>2.700000</td>\n",
       "      <td>2.300000</td>\n",
       "      <td>121.000000</td>\n",
       "      <td>1.060000</td>\n",
       "      <td>125.000000</td>\n",
       "      <td>27.000000</td>\n",
       "      <td>8.607111e+08</td>\n",
       "    </tr>\n",
       "    <tr>\n",
       "      <th>max</th>\n",
       "      <td>65526.000000</td>\n",
       "      <td>530.000000</td>\n",
       "      <td>18.000000</td>\n",
       "      <td>430.000000</td>\n",
       "      <td>2.120000</td>\n",
       "      <td>839.000000</td>\n",
       "      <td>45.000000</td>\n",
       "      <td>8.701190e+08</td>\n",
       "    </tr>\n",
       "  </tbody>\n",
       "</table>\n",
       "</div>"
      ],
      "text/plain": [
       "                age          TSH           T3          TT4          T4U  \\\n",
       "count   7546.000000  6824.000000  5337.000000  7192.000000  6870.000000   \n",
       "mean      78.013782     5.421753     2.020935   105.203373     0.967322   \n",
       "std     1305.258137    26.080471     0.809865    32.606462     0.162315   \n",
       "min        1.000000     0.005000     0.050000     2.000000     0.190000   \n",
       "25%       37.000000     0.570000     1.600000    87.000000     0.870000   \n",
       "50%       55.000000     1.400000     2.000000   103.000000     0.960000   \n",
       "75%       67.000000     2.700000     2.300000   121.000000     1.060000   \n",
       "max    65526.000000   530.000000    18.000000   430.000000     2.120000   \n",
       "\n",
       "               FTI         TBG    patient_id  \n",
       "count  6877.000000  259.000000  7.546000e+03  \n",
       "mean    110.571745   22.955019  8.529713e+08  \n",
       "std      36.600867    6.088392  7.561373e+06  \n",
       "min       1.400000    0.100000  8.408010e+08  \n",
       "25%      93.000000   20.000000  8.504100e+08  \n",
       "50%     108.000000   23.000000  8.510090e+08  \n",
       "75%     125.000000   27.000000  8.607111e+08  \n",
       "max     839.000000   45.000000  8.701190e+08  "
      ]
     },
     "execution_count": 43,
     "metadata": {},
     "output_type": "execute_result"
    }
   ],
   "source": [
    "# variables numériques\n",
    "data.describe()"
   ]
  },
  {
   "cell_type": "markdown",
   "id": "d80ad347",
   "metadata": {},
   "source": [
    "Observations :\n",
    "- L'âge max est à 65526 ???"
   ]
  },
  {
   "cell_type": "code",
   "execution_count": 44,
   "id": "05b04382",
   "metadata": {},
   "outputs": [
    {
     "data": {
      "text/html": [
       "<div>\n",
       "<style scoped>\n",
       "    .dataframe tbody tr th:only-of-type {\n",
       "        vertical-align: middle;\n",
       "    }\n",
       "\n",
       "    .dataframe tbody tr th {\n",
       "        vertical-align: top;\n",
       "    }\n",
       "\n",
       "    .dataframe thead th {\n",
       "        text-align: right;\n",
       "    }\n",
       "</style>\n",
       "<table border=\"1\" class=\"dataframe\">\n",
       "  <thead>\n",
       "    <tr style=\"text-align: right;\">\n",
       "      <th></th>\n",
       "      <th>age</th>\n",
       "      <th>sex</th>\n",
       "      <th>on_thyroxine</th>\n",
       "      <th>query_on_thyroxine</th>\n",
       "      <th>on_antithyroid_meds</th>\n",
       "      <th>sick</th>\n",
       "      <th>pregnant</th>\n",
       "      <th>thyroid_surgery</th>\n",
       "      <th>I131_treatment</th>\n",
       "      <th>query_hypothyroid</th>\n",
       "      <th>...</th>\n",
       "      <th>psych</th>\n",
       "      <th>TSH</th>\n",
       "      <th>T3</th>\n",
       "      <th>TT4</th>\n",
       "      <th>T4U</th>\n",
       "      <th>FTI</th>\n",
       "      <th>TBG</th>\n",
       "      <th>referral_source</th>\n",
       "      <th>target</th>\n",
       "      <th>patient_id</th>\n",
       "    </tr>\n",
       "  </thead>\n",
       "  <tbody>\n",
       "    <tr>\n",
       "      <th>2976</th>\n",
       "      <td>455</td>\n",
       "      <td>F</td>\n",
       "      <td>f</td>\n",
       "      <td>f</td>\n",
       "      <td>f</td>\n",
       "      <td>f</td>\n",
       "      <td>f</td>\n",
       "      <td>f</td>\n",
       "      <td>f</td>\n",
       "      <td>f</td>\n",
       "      <td>...</td>\n",
       "      <td>f</td>\n",
       "      <td>1.10</td>\n",
       "      <td>2.0</td>\n",
       "      <td>118.0</td>\n",
       "      <td>1.13</td>\n",
       "      <td>104.0</td>\n",
       "      <td>NaN</td>\n",
       "      <td>SVI</td>\n",
       "      <td>negative</td>\n",
       "      <td>850530001</td>\n",
       "    </tr>\n",
       "    <tr>\n",
       "      <th>5710</th>\n",
       "      <td>65511</td>\n",
       "      <td>M</td>\n",
       "      <td>f</td>\n",
       "      <td>f</td>\n",
       "      <td>f</td>\n",
       "      <td>f</td>\n",
       "      <td>f</td>\n",
       "      <td>f</td>\n",
       "      <td>f</td>\n",
       "      <td>f</td>\n",
       "      <td>...</td>\n",
       "      <td>f</td>\n",
       "      <td>0.38</td>\n",
       "      <td>2.0</td>\n",
       "      <td>113.0</td>\n",
       "      <td>1.08</td>\n",
       "      <td>104.0</td>\n",
       "      <td>NaN</td>\n",
       "      <td>other</td>\n",
       "      <td>negative</td>\n",
       "      <td>860210008</td>\n",
       "    </tr>\n",
       "    <tr>\n",
       "      <th>6392</th>\n",
       "      <td>65512</td>\n",
       "      <td>M</td>\n",
       "      <td>f</td>\n",
       "      <td>f</td>\n",
       "      <td>f</td>\n",
       "      <td>f</td>\n",
       "      <td>f</td>\n",
       "      <td>f</td>\n",
       "      <td>f</td>\n",
       "      <td>f</td>\n",
       "      <td>...</td>\n",
       "      <td>f</td>\n",
       "      <td>0.03</td>\n",
       "      <td>2.8</td>\n",
       "      <td>112.0</td>\n",
       "      <td>0.84</td>\n",
       "      <td>133.0</td>\n",
       "      <td>NaN</td>\n",
       "      <td>other</td>\n",
       "      <td>negative</td>\n",
       "      <td>860403050</td>\n",
       "    </tr>\n",
       "    <tr>\n",
       "      <th>8105</th>\n",
       "      <td>65526</td>\n",
       "      <td>F</td>\n",
       "      <td>f</td>\n",
       "      <td>f</td>\n",
       "      <td>f</td>\n",
       "      <td>f</td>\n",
       "      <td>f</td>\n",
       "      <td>f</td>\n",
       "      <td>f</td>\n",
       "      <td>f</td>\n",
       "      <td>...</td>\n",
       "      <td>f</td>\n",
       "      <td>1.50</td>\n",
       "      <td>NaN</td>\n",
       "      <td>132.0</td>\n",
       "      <td>1.02</td>\n",
       "      <td>129.0</td>\n",
       "      <td>NaN</td>\n",
       "      <td>other</td>\n",
       "      <td>negative</td>\n",
       "      <td>861014041</td>\n",
       "    </tr>\n",
       "  </tbody>\n",
       "</table>\n",
       "<p>4 rows × 25 columns</p>\n",
       "</div>"
      ],
      "text/plain": [
       "        age sex on_thyroxine query_on_thyroxine on_antithyroid_meds sick  \\\n",
       "2976    455   F            f                  f                   f    f   \n",
       "5710  65511   M            f                  f                   f    f   \n",
       "6392  65512   M            f                  f                   f    f   \n",
       "8105  65526   F            f                  f                   f    f   \n",
       "\n",
       "     pregnant thyroid_surgery I131_treatment query_hypothyroid  ... psych  \\\n",
       "2976        f               f              f                 f  ...     f   \n",
       "5710        f               f              f                 f  ...     f   \n",
       "6392        f               f              f                 f  ...     f   \n",
       "8105        f               f              f                 f  ...     f   \n",
       "\n",
       "       TSH   T3    TT4   T4U    FTI  TBG  referral_source    target  \\\n",
       "2976  1.10  2.0  118.0  1.13  104.0  NaN              SVI  negative   \n",
       "5710  0.38  2.0  113.0  1.08  104.0  NaN            other  negative   \n",
       "6392  0.03  2.8  112.0  0.84  133.0  NaN            other  negative   \n",
       "8105  1.50  NaN  132.0  1.02  129.0  NaN            other  negative   \n",
       "\n",
       "      patient_id  \n",
       "2976   850530001  \n",
       "5710   860210008  \n",
       "6392   860403050  \n",
       "8105   861014041  \n",
       "\n",
       "[4 rows x 25 columns]"
      ]
     },
     "execution_count": 44,
     "metadata": {},
     "output_type": "execute_result"
    }
   ],
   "source": [
    "data[data.age > 100]"
   ]
  },
  {
   "cell_type": "markdown",
   "id": "d41c6bb2",
   "metadata": {},
   "source": [
    "Je décide de retirer tous les individus d'âge supérieur à 100. De toute façon, ces individus sont sains. "
   ]
  },
  {
   "cell_type": "code",
   "execution_count": 35,
   "id": "fe3b149e",
   "metadata": {},
   "outputs": [],
   "source": [
    "data['age'] = np.where((data.age > 100), np.nan, data.age)"
   ]
  },
  {
   "cell_type": "markdown",
   "id": "081c0375",
   "metadata": {},
   "source": [
    "Je regarde si il y a des duplicats de lignes, et de patient_ID. "
   ]
  },
  {
   "cell_type": "code",
   "execution_count": 50,
   "id": "8f206adf",
   "metadata": {},
   "outputs": [
    {
     "name": "stdout",
     "output_type": "stream",
     "text": [
      "False\n",
      "False\n"
     ]
    }
   ],
   "source": [
    "print(data.duplicated().any())\n",
    "print(data.duplicated(subset=['patient_id']).any())"
   ]
  },
  {
   "cell_type": "markdown",
   "id": "ca892e85",
   "metadata": {},
   "source": [
    "Il n'y a aucun duplicat donc je retire patient_id puisqu'il n'apporte aucune information. Je décide également de retirer la colonne \"referral_source\", qui indique par quel moyen le patient a effectué les tests pour les maladies de la thyroïde. Cette colonne pourrait apporter un biais (certaines sources peuvent amener plus de malades), et elle n'apporte pas beaucoup d'information de toute façon.  "
   ]
  },
  {
   "cell_type": "code",
   "execution_count": 51,
   "id": "914069ba",
   "metadata": {},
   "outputs": [],
   "source": [
    "data.drop(['patient_id', 'referral_source'], axis=1, inplace=True)"
   ]
  },
  {
   "cell_type": "markdown",
   "id": "c28e78b3",
   "metadata": {},
   "source": [
    "Finalement, plusieurs colonnes sont liées à un traitement médical post diagnostic ('on_thyroxine', 'query_on_thyroxine', 'on_antithyroid_meds' 'thyroid_surgery', 'I131_treatment', 'query_hypothyroid', 'query_hyperthyroid'). Dans le cadre d'un modèle de diagnostic, ce n'est pas très réaliste de les inclure. On va cependant les garder pour le moment et voir avec un premier modèle baseline si effectivement l'accuracy chute lorsqu'on les retire."
   ]
  },
  {
   "cell_type": "markdown",
   "id": "fa5e641c",
   "metadata": {},
   "source": [
    "### 2. Premier Modèle, sans Feature Engineering "
   ]
  },
  {
   "cell_type": "markdown",
   "id": "fb3fcd4e",
   "metadata": {},
   "source": [
    "J'ai décidé de faire un premier modèle avec un Random Forest, pour avoir un point de référence et éventuellement repérer des problèmes qu'il faudra corriger par la suite."
   ]
  },
  {
   "cell_type": "code",
   "execution_count": 54,
   "id": "4a78007a",
   "metadata": {},
   "outputs": [
    {
     "name": "stdout",
     "output_type": "stream",
     "text": [
      "<class 'pandas.core.frame.DataFrame'>\n",
      "Index: 7546 entries, 0 to 9171\n",
      "Data columns (total 23 columns):\n",
      " #   Column               Non-Null Count  Dtype  \n",
      "---  ------               --------------  -----  \n",
      " 0   age                  7546 non-null   int64  \n",
      " 1   sex                  7296 non-null   object \n",
      " 2   on_thyroxine         7546 non-null   object \n",
      " 3   query_on_thyroxine   7546 non-null   object \n",
      " 4   on_antithyroid_meds  7546 non-null   object \n",
      " 5   sick                 7546 non-null   object \n",
      " 6   pregnant             7546 non-null   object \n",
      " 7   thyroid_surgery      7546 non-null   object \n",
      " 8   I131_treatment       7546 non-null   object \n",
      " 9   query_hypothyroid    7546 non-null   object \n",
      " 10  query_hyperthyroid   7546 non-null   object \n",
      " 11  lithium              7546 non-null   object \n",
      " 12  goitre               7546 non-null   object \n",
      " 13  tumor                7546 non-null   object \n",
      " 14  hypopituitary        7546 non-null   object \n",
      " 15  psych                7546 non-null   object \n",
      " 16  TSH                  6824 non-null   float64\n",
      " 17  T3                   5337 non-null   float64\n",
      " 18  TT4                  7192 non-null   float64\n",
      " 19  T4U                  6870 non-null   float64\n",
      " 20  FTI                  6877 non-null   float64\n",
      " 21  TBG                  259 non-null    float64\n",
      " 22  target               7546 non-null   object \n",
      "dtypes: float64(6), int64(1), object(16)\n",
      "memory usage: 1.4+ MB\n"
     ]
    }
   ],
   "source": [
    "data.info()"
   ]
  },
  {
   "cell_type": "markdown",
   "id": "34d1d1be",
   "metadata": {},
   "source": [
    "Je vois que la colonne TBG a 97% de valeurs manquantes donc pour ce premier modèle je retire la colonne. Je choisis ensuite de retirer les lignes où il y a des valeurs manquantes. "
   ]
  },
  {
   "cell_type": "code",
   "execution_count": 55,
   "id": "2a9ae0db",
   "metadata": {},
   "outputs": [
    {
     "name": "stdout",
     "output_type": "stream",
     "text": [
      "(4659, 22)\n"
     ]
    }
   ],
   "source": [
    "data_baseline = data.drop(columns=['TBG'])\n",
    "data_baseline = data_baseline.dropna()\n",
    "\n",
    "print(data_baseline.shape)"
   ]
  },
  {
   "cell_type": "markdown",
   "id": "5e40612b",
   "metadata": {},
   "source": [
    "On garde 4659 individus pour le modèle baseline, ce qui est suffisant pour un premier modèle. Evidemment, si il y a une corrélation entre la variable target et les occurences de Na, on le verra plus tard et on verra comment le gérer."
   ]
  },
  {
   "cell_type": "markdown",
   "id": "3b6bc9f2",
   "metadata": {},
   "source": [
    "Modèle baseline RandomForest : "
   ]
  },
  {
   "cell_type": "code",
   "execution_count": 60,
   "id": "e47bf03a",
   "metadata": {},
   "outputs": [
    {
     "name": "stdout",
     "output_type": "stream",
     "text": [
      "              precision    recall  f1-score   support\n",
      "\n",
      "hyperthyroid       0.81      0.74      0.77        23\n",
      " hypothyroid       0.97      1.00      0.99        75\n",
      "    negative       0.99      0.99      0.99       834\n",
      "\n",
      "    accuracy                           0.99       932\n",
      "   macro avg       0.93      0.91      0.92       932\n",
      "weighted avg       0.99      0.99      0.99       932\n",
      "\n"
     ]
    }
   ],
   "source": [
    "from sklearn.model_selection import train_test_split\n",
    "from sklearn.preprocessing import OneHotEncoder\n",
    "from sklearn.compose import ColumnTransformer\n",
    "from sklearn.pipeline import Pipeline\n",
    "from sklearn.ensemble import RandomForestClassifier\n",
    "from sklearn.metrics import classification_report\n",
    "\n",
    "# Split X,y\n",
    "X=data_baseline.drop(columns=[\"target\"])\n",
    "y=data_baseline.target\n",
    "\n",
    "# Split variables catégorielles / variables numériques \n",
    "categorical_cols = X.select_dtypes(include='object').columns\n",
    "numerical_cols = X.select_dtypes(exclude='object').columns\n",
    "\n",
    "# Split train test\n",
    "X_train,X_test,y_train,y_test=train_test_split(X, y, test_size=0.2, random_state=42, stratify=y) # on conserve la même proportion de classes avec stratify\n",
    "\n",
    "# Preprocessing simple\n",
    "preprocess = ColumnTransformer([\n",
    "    ('cat', OneHotEncoder(handle_unknown='ignore'), categorical_cols)\n",
    "], remainder='passthrough')\n",
    "\n",
    "# premier modele\n",
    "pipe=Pipeline([\n",
    "    ('preprocess_catcol',preprocess),\n",
    "    ('random_forest',RandomForestClassifier(random_state=42))\n",
    "    ])\n",
    "\n",
    "# Entraînement\n",
    "pipe.fit(X_train,y_train)\n",
    "y_hat=pipe.predict(X_test)\n",
    "\n",
    "# Evaluation\n",
    "print(classification_report(y_test, y_hat))"
   ]
  },
  {
   "cell_type": "code",
   "execution_count": 61,
   "id": "d47d50d8",
   "metadata": {},
   "outputs": [
    {
     "data": {
      "text/plain": [
       "<sklearn.metrics._plot.confusion_matrix.ConfusionMatrixDisplay at 0x145b14f10>"
      ]
     },
     "execution_count": 61,
     "metadata": {},
     "output_type": "execute_result"
    },
    {
     "data": {
      "image/png": "[encoded data removed]",
      "text/plain": [
       "<Figure size 640x480 with 2 Axes>"
      ]
     },
     "metadata": {},
     "output_type": "display_data"
    }
   ],
   "source": [
    "from sklearn.metrics import confusion_matrix, ConfusionMatrixDisplay\n",
    "\n",
    "cm = confusion_matrix(y_test, y_hat, labels=pipe.classes_)\n",
    "\n",
    "disp = ConfusionMatrixDisplay(confusion_matrix=cm,\n",
    "                              display_labels=pipe.classes_)\n",
    "\n",
    "disp.plot()"
   ]
  },
  {
   "cell_type": "markdown",
   "id": "86d1ee15",
   "metadata": {},
   "source": [
    "On a d'excellents résultats... Le modèle a juste un peu plus de mal à détecter l'hyperthyroïdie avec un recall à 0.74 mais le reste est quasiment parfait. C'est maintenant qu'on se questionne sur le data leakage et les variables post-diagnostic. \n",
    "=> On les retire pour voir..."
   ]
  },
  {
   "cell_type": "code",
   "execution_count": 62,
   "id": "51a6689f",
   "metadata": {},
   "outputs": [],
   "source": [
    "leakage_features = [\n",
    "    'on_thyroxine',\n",
    "    'query_on_thyroxine',\n",
    "    'on_antithyroid_meds',\n",
    "    'thyroid_surgery',\n",
    "    'I131_treatment',\n",
    "    'query_hypothyroid',\n",
    "    'query_hyperthyroid'\n",
    "]\n",
    "\n",
    "data_baseline2=data_baseline.drop(columns=leakage_features)"
   ]
  },
  {
   "cell_type": "code",
   "execution_count": 63,
   "id": "369c5786",
   "metadata": {},
   "outputs": [
    {
     "name": "stdout",
     "output_type": "stream",
     "text": [
      "              precision    recall  f1-score   support\n",
      "\n",
      "hyperthyroid       0.80      0.70      0.74        23\n",
      " hypothyroid       0.97      1.00      0.99        75\n",
      "    negative       0.99      0.99      0.99       834\n",
      "\n",
      "    accuracy                           0.99       932\n",
      "   macro avg       0.92      0.90      0.91       932\n",
      "weighted avg       0.99      0.99      0.99       932\n",
      "\n"
     ]
    }
   ],
   "source": [
    "from sklearn.model_selection import train_test_split\n",
    "from sklearn.preprocessing import OneHotEncoder\n",
    "from sklearn.compose import ColumnTransformer\n",
    "from sklearn.pipeline import Pipeline\n",
    "from sklearn.ensemble import RandomForestClassifier\n",
    "from sklearn.metrics import classification_report\n",
    "\n",
    "# Split X,y\n",
    "X=data_baseline2.drop(columns=[\"target\"])\n",
    "y=data_baseline2.target\n",
    "\n",
    "# Split variables catégorielles / variables numériques \n",
    "categorical_cols = X.select_dtypes(include='object').columns\n",
    "numerical_cols = X.select_dtypes(exclude='object').columns\n",
    "\n",
    "# Split train test\n",
    "X_train,X_test,y_train,y_test=train_test_split(X, y, test_size=0.2, random_state=42, stratify=y) # on conserve la même proportion de classes avec stratify\n",
    "\n",
    "# Preprocessing simple\n",
    "preprocess = ColumnTransformer([\n",
    "    ('cat', OneHotEncoder(handle_unknown='ignore'), categorical_cols)\n",
    "], remainder='passthrough')\n",
    "\n",
    "# premier modele\n",
    "pipe=Pipeline([\n",
    "    ('preprocess_catcol',preprocess),\n",
    "    ('random_forest',RandomForestClassifier(random_state=42))\n",
    "    ])\n",
    "\n",
    "# Entraînement\n",
    "pipe.fit(X_train,y_train)\n",
    "y_hat=pipe.predict(X_test)\n",
    "\n",
    "# Evaluation\n",
    "print(classification_report(y_test, y_hat))"
   ]
  },
  {
   "cell_type": "code",
   "execution_count": 64,
   "id": "9fe11b9a",
   "metadata": {},
   "outputs": [
    {
     "data": {
      "text/plain": [
       "<sklearn.metrics._plot.confusion_matrix.ConfusionMatrixDisplay at 0x145b3f8d0>"
      ]
     },
     "execution_count": 64,
     "metadata": {},
     "output_type": "execute_result"
    },
    {
     "data": {
      "image/png": "[encoded data removed]",
      "text/plain": [
       "<Figure size 640x480 with 2 Axes>"
      ]
     },
     "metadata": {},
     "output_type": "display_data"
    }
   ],
   "source": [
    "from sklearn.metrics import confusion_matrix, ConfusionMatrixDisplay\n",
    "\n",
    "cm = confusion_matrix(y_test, y_hat, labels=pipe.classes_)\n",
    "\n",
    "disp = ConfusionMatrixDisplay(confusion_matrix=cm,\n",
    "                              display_labels=pipe.classes_)\n",
    "\n",
    "disp.plot()"
   ]
  },
  {
   "cell_type": "markdown",
   "id": "24e63b71",
   "metadata": {},
   "source": [
    "Le retrait des variables post-diagnostic ne semble pas vraiment affecter les performances du modèle, qui conserve une accuracy de 0.99.\n",
    "Cela indique que les excellents résultats observés ne proviennent pas d’un effet de data leakage, mais plutôt du fort pouvoir explicatif des variables biologiques (TSH, T3, TT4, FTI…) directement liées au diagnostic médical."
   ]
  },
  {
   "cell_type": "code",
   "execution_count": 66,
   "id": "dd75500e",
   "metadata": {},
   "outputs": [],
   "source": [
    "variables_hormones = [\n",
    "    'TSH', 'T3', 'TT4', 'T4U', 'FTI'\n",
    "]\n",
    "\n",
    "data_baseline3=data_baseline.drop(columns=variables_hormones)"
   ]
  },
  {
   "cell_type": "code",
   "execution_count": 67,
   "id": "49e03241",
   "metadata": {},
   "outputs": [
    {
     "name": "stdout",
     "output_type": "stream",
     "text": [
      "              precision    recall  f1-score   support\n",
      "\n",
      "hyperthyroid       0.10      0.04      0.06        23\n",
      " hypothyroid       0.12      0.03      0.04        75\n",
      "    negative       0.90      0.97      0.93       834\n",
      "\n",
      "    accuracy                           0.87       932\n",
      "   macro avg       0.37      0.35      0.35       932\n",
      "weighted avg       0.81      0.87      0.84       932\n",
      "\n"
     ]
    }
   ],
   "source": [
    "from sklearn.model_selection import train_test_split\n",
    "from sklearn.preprocessing import OneHotEncoder\n",
    "from sklearn.compose import ColumnTransformer\n",
    "from sklearn.pipeline import Pipeline\n",
    "from sklearn.ensemble import RandomForestClassifier\n",
    "from sklearn.metrics import classification_report\n",
    "\n",
    "# Split X,y\n",
    "X=data_baseline3.drop(columns=[\"target\"])\n",
    "y=data_baseline3.target\n",
    "\n",
    "# Split variables catégorielles / variables numériques \n",
    "categorical_cols = X.select_dtypes(include='object').columns\n",
    "numerical_cols = X.select_dtypes(exclude='object').columns\n",
    "\n",
    "# Split train test\n",
    "X_train,X_test,y_train,y_test=train_test_split(X, y, test_size=0.2, random_state=42, stratify=y) # on conserve la même proportion de classes avec stratify\n",
    "\n",
    "# Preprocessing simple\n",
    "preprocess = ColumnTransformer([\n",
    "    ('cat', OneHotEncoder(handle_unknown='ignore'), categorical_cols)\n",
    "], remainder='passthrough')\n",
    "\n",
    "# premier modele\n",
    "pipe=Pipeline([\n",
    "    ('preprocess_catcol',preprocess),\n",
    "    ('random_forest',RandomForestClassifier(random_state=42))\n",
    "    ])\n",
    "\n",
    "# Entraînement\n",
    "pipe.fit(X_train,y_train)\n",
    "y_hat=pipe.predict(X_test)\n",
    "\n",
    "# Evaluation\n",
    "print(classification_report(y_test, y_hat))"
   ]
  },
  {
   "cell_type": "code",
   "execution_count": 68,
   "id": "5d8769cb",
   "metadata": {},
   "outputs": [
    {
     "data": {
      "text/plain": [
       "<sklearn.metrics._plot.confusion_matrix.ConfusionMatrixDisplay at 0x145b163d0>"
      ]
     },
     "execution_count": 68,
     "metadata": {},
     "output_type": "execute_result"
    },
    {
     "data": {
      "image/png": "[encoded data removed]",
      "text/plain": [
       "<Figure size 640x480 with 2 Axes>"
      ]
     },
     "metadata": {},
     "output_type": "display_data"
    }
   ],
   "source": [
    "from sklearn.metrics import confusion_matrix, ConfusionMatrixDisplay\n",
    "\n",
    "cm = confusion_matrix(y_test, y_hat, labels=pipe.classes_)\n",
    "\n",
    "disp = ConfusionMatrixDisplay(confusion_matrix=cm,\n",
    "                              display_labels=pipe.classes_)\n",
    "\n",
    "disp.plot()"
   ]
  },
  {
   "cell_type": "markdown",
   "id": "b1f2b3f7",
   "metadata": {},
   "source": [
    "Sans les variables biologiques (TSH, T3, TT4, T4U, FTI), les performances chutent fortement : l’accuracy passe de 0.99 à 0.87, et les F1-scores pour les classes hyperthyroid et hypothyroid s’effondrent (≈0.05). Le modèle se contente de prédire la classe dominante.\n"
   ]
  },
  {
   "cell_type": "markdown",
   "id": "13cf00a0",
   "metadata": {},
   "source": [
    "**Discussion :**\n",
    "Au vu de ces excellents résultats sur le modèle baseline, on va chercher à complexifier la prédiction en rajoutant des classes. On a deux angles d'approche : rajouter une méta-classe \"Other\" dans laquelle on ajoute toutes les targets que l'on avant éliminées car trop peu d'individus ET/OU sub-diviser les méta-classes en classes. "
   ]
  },
  {
   "cell_type": "markdown",
   "id": "55cd8d60",
   "metadata": {},
   "source": [
    "#### 2. Feature engineering "
   ]
  }
 ],
 "metadata": {
  "kernelspec": {
   "display_name": "env_numpy",
   "language": "python",
   "name": "python3"
  },
  "language_info": {
   "codemirror_mode": {
    "name": "ipython",
    "version": 3
   },
   "file_extension": ".py",
   "mimetype": "text/x-python",
   "name": "python",
   "nbconvert_exporter": "python",
   "pygments_lexer": "ipython3",
   "version": "3.11.13"
  }
 },
 "nbformat": 4,
 "nbformat_minor": 5
}
